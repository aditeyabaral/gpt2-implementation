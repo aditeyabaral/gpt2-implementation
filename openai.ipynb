{
  "nbformat": 4,
  "nbformat_minor": 0,
  "metadata": {
    "colab": {
      "name": "openai",
      "provenance": [],
      "collapsed_sections": [],
      "authorship_tag": "ABX9TyN2SUCay6QIgu/e22Ezgq3r",
      "include_colab_link": true
    },
    "kernelspec": {
      "name": "python3",
      "display_name": "Python 3"
    },
    "accelerator": "GPU"
  },
  "cells": [
    {
      "cell_type": "markdown",
      "metadata": {
        "id": "view-in-github",
        "colab_type": "text"
      },
      "source": [
        "<a href=\"https://colab.research.google.com/github/aditeyabaral/gpt2-implementation/blob/main/openai.ipynb\" target=\"_parent\"><img src=\"https://colab.research.google.com/assets/colab-badge.svg\" alt=\"Open In Colab\"/></a>"
      ]
    },
    {
      "cell_type": "markdown",
      "metadata": {
        "id": "rWgtED0ivKpb"
      },
      "source": [
        "# OpenAI based Implementation"
      ]
    },
    {
      "cell_type": "markdown",
      "metadata": {
        "id": "Nhv1EvqvuAFl"
      },
      "source": [
        "[Article](https://medium.com/@ngwaifoong92/beginners-guide-to-retrain-gpt-2-117m-to-generate-custom-text-content-8bb5363d8b7f)\n",
        "\n",
        "[Notebook Guide](https://github.com/ak9250/gpt-2-colab/blob/master/GPT_2.ipynb)"
      ]
    },
    {
      "cell_type": "markdown",
      "metadata": {
        "id": "VkFssKAowINe"
      },
      "source": [
        "# Installing and Setting up Environment"
      ]
    },
    {
      "cell_type": "code",
      "metadata": {
        "id": "V21_vqbEDHBQ"
      },
      "source": [
        "import os"
      ],
      "execution_count": 15,
      "outputs": []
    },
    {
      "cell_type": "code",
      "metadata": {
        "id": "Fpc8LqNDBtzt",
        "outputId": "c46f0762-0216-45f5-8a58-a7f5eaf2b0b1",
        "colab": {
          "base_uri": "https://localhost:8080/",
          "height": 108
        }
      },
      "source": [
        "!git clone https://github.com/nshepperd/gpt-2.git"
      ],
      "execution_count": 16,
      "outputs": [
        {
          "output_type": "stream",
          "text": [
            "Cloning into 'gpt-2'...\n",
            "remote: Enumerating objects: 375, done.\u001b[K\n",
            "remote: Total 375 (delta 0), reused 0 (delta 0), pack-reused 375\u001b[K\n",
            "Receiving objects: 100% (375/375), 4.43 MiB | 6.31 MiB/s, done.\n",
            "Resolving deltas: 100% (204/204), done.\n"
          ],
          "name": "stdout"
        }
      ]
    },
    {
      "cell_type": "code",
      "metadata": {
        "id": "DUukARMYCJFc",
        "outputId": "2e4c4ec3-acf5-4d11-9092-0aaa47cb9889",
        "colab": {
          "base_uri": "https://localhost:8080/",
          "height": 656
        }
      },
      "source": [
        "os.chdir(\"gpt-2\")\n",
        "!pip3 install tensorflow==1.15.0\n",
        "!pip install -r requirements.txt"
      ],
      "execution_count": 17,
      "outputs": [
        {
          "output_type": "stream",
          "text": [
            "Requirement already satisfied: tensorflow==1.15.0 in /usr/local/lib/python3.6/dist-packages (1.15.0)\n",
            "Requirement already satisfied: termcolor>=1.1.0 in /usr/local/lib/python3.6/dist-packages (from tensorflow==1.15.0) (1.1.0)\n",
            "Requirement already satisfied: wrapt>=1.11.1 in /usr/local/lib/python3.6/dist-packages (from tensorflow==1.15.0) (1.12.1)\n",
            "Requirement already satisfied: wheel>=0.26 in /usr/local/lib/python3.6/dist-packages (from tensorflow==1.15.0) (0.35.1)\n",
            "Requirement already satisfied: tensorboard<1.16.0,>=1.15.0 in /usr/local/lib/python3.6/dist-packages (from tensorflow==1.15.0) (1.15.0)\n",
            "Requirement already satisfied: opt-einsum>=2.3.2 in /usr/local/lib/python3.6/dist-packages (from tensorflow==1.15.0) (3.3.0)\n",
            "Requirement already satisfied: tensorflow-estimator==1.15.1 in /usr/local/lib/python3.6/dist-packages (from tensorflow==1.15.0) (1.15.1)\n",
            "Requirement already satisfied: astor>=0.6.0 in /usr/local/lib/python3.6/dist-packages (from tensorflow==1.15.0) (0.8.1)\n",
            "Requirement already satisfied: absl-py>=0.7.0 in /usr/local/lib/python3.6/dist-packages (from tensorflow==1.15.0) (0.10.0)\n",
            "Requirement already satisfied: protobuf>=3.6.1 in /usr/local/lib/python3.6/dist-packages (from tensorflow==1.15.0) (3.12.4)\n",
            "Requirement already satisfied: grpcio>=1.8.6 in /usr/local/lib/python3.6/dist-packages (from tensorflow==1.15.0) (1.32.0)\n",
            "Requirement already satisfied: six>=1.10.0 in /usr/local/lib/python3.6/dist-packages (from tensorflow==1.15.0) (1.15.0)\n",
            "Requirement already satisfied: gast==0.2.2 in /usr/local/lib/python3.6/dist-packages (from tensorflow==1.15.0) (0.2.2)\n",
            "Requirement already satisfied: keras-preprocessing>=1.0.5 in /usr/local/lib/python3.6/dist-packages (from tensorflow==1.15.0) (1.1.2)\n",
            "Requirement already satisfied: keras-applications>=1.0.8 in /usr/local/lib/python3.6/dist-packages (from tensorflow==1.15.0) (1.0.8)\n",
            "Requirement already satisfied: google-pasta>=0.1.6 in /usr/local/lib/python3.6/dist-packages (from tensorflow==1.15.0) (0.2.0)\n",
            "Requirement already satisfied: numpy<2.0,>=1.16.0 in /usr/local/lib/python3.6/dist-packages (from tensorflow==1.15.0) (1.18.5)\n",
            "Requirement already satisfied: setuptools>=41.0.0 in /usr/local/lib/python3.6/dist-packages (from tensorboard<1.16.0,>=1.15.0->tensorflow==1.15.0) (50.3.0)\n",
            "Requirement already satisfied: markdown>=2.6.8 in /usr/local/lib/python3.6/dist-packages (from tensorboard<1.16.0,>=1.15.0->tensorflow==1.15.0) (3.2.2)\n",
            "Requirement already satisfied: werkzeug>=0.11.15 in /usr/local/lib/python3.6/dist-packages (from tensorboard<1.16.0,>=1.15.0->tensorflow==1.15.0) (1.0.1)\n",
            "Requirement already satisfied: h5py in /usr/local/lib/python3.6/dist-packages (from keras-applications>=1.0.8->tensorflow==1.15.0) (2.10.0)\n",
            "Requirement already satisfied: importlib-metadata; python_version < \"3.8\" in /usr/local/lib/python3.6/dist-packages (from markdown>=2.6.8->tensorboard<1.16.0,>=1.15.0->tensorflow==1.15.0) (2.0.0)\n",
            "Requirement already satisfied: zipp>=0.5 in /usr/local/lib/python3.6/dist-packages (from importlib-metadata; python_version < \"3.8\"->markdown>=2.6.8->tensorboard<1.16.0,>=1.15.0->tensorflow==1.15.0) (3.2.0)\n",
            "Requirement already satisfied: fire>=0.1.3 in /usr/local/lib/python3.6/dist-packages (from -r requirements.txt (line 1)) (0.3.1)\n",
            "Requirement already satisfied: regex==2017.4.5 in /usr/local/lib/python3.6/dist-packages (from -r requirements.txt (line 2)) (2017.4.5)\n",
            "Requirement already satisfied: requests==2.21.0 in /usr/local/lib/python3.6/dist-packages (from -r requirements.txt (line 3)) (2.21.0)\n",
            "Requirement already satisfied: tqdm==4.31.1 in /usr/local/lib/python3.6/dist-packages (from -r requirements.txt (line 4)) (4.31.1)\n",
            "Requirement already satisfied: toposort==1.5 in /usr/local/lib/python3.6/dist-packages (from -r requirements.txt (line 5)) (1.5)\n",
            "Requirement already satisfied: termcolor in /usr/local/lib/python3.6/dist-packages (from fire>=0.1.3->-r requirements.txt (line 1)) (1.1.0)\n",
            "Requirement already satisfied: six in /usr/local/lib/python3.6/dist-packages (from fire>=0.1.3->-r requirements.txt (line 1)) (1.15.0)\n",
            "Requirement already satisfied: certifi>=2017.4.17 in /usr/local/lib/python3.6/dist-packages (from requests==2.21.0->-r requirements.txt (line 3)) (2020.6.20)\n",
            "Requirement already satisfied: idna<2.9,>=2.5 in /usr/local/lib/python3.6/dist-packages (from requests==2.21.0->-r requirements.txt (line 3)) (2.8)\n",
            "Requirement already satisfied: urllib3<1.25,>=1.21.1 in /usr/local/lib/python3.6/dist-packages (from requests==2.21.0->-r requirements.txt (line 3)) (1.24.3)\n",
            "Requirement already satisfied: chardet<3.1.0,>=3.0.2 in /usr/local/lib/python3.6/dist-packages (from requests==2.21.0->-r requirements.txt (line 3)) (3.0.4)\n"
          ],
          "name": "stdout"
        }
      ]
    },
    {
      "cell_type": "code",
      "metadata": {
        "id": "39hHg13hDE5d",
        "outputId": "00afe65f-5348-4c51-f102-8be23ec83d02",
        "colab": {
          "base_uri": "https://localhost:8080/",
          "height": 144
        }
      },
      "source": [
        "!python3 download_model.py 345M\n",
        "!export PYTHONIOENCODING=UTF-8"
      ],
      "execution_count": 18,
      "outputs": [
        {
          "output_type": "stream",
          "text": [
            "\rFetching checkpoint:   0%|                                              | 0.00/77.0 [00:00<?, ?it/s]\rFetching checkpoint: 1.00kit [00:00, 1.24Mit/s]                                                     \n",
            "\rFetching encoder.json:   0%|                                           | 0.00/1.04M [00:00<?, ?it/s]\rFetching encoder.json: 1.04Mit [00:00, 72.5Mit/s]                                                   \n",
            "Fetching hparams.json: 1.00kit [00:00, 1.44Mit/s]                                                   \n",
            "Fetching model.ckpt.data-00000-of-00001: 1.42Git [00:19, 73.1Mit/s]                                 \n",
            "Fetching model.ckpt.index: 11.0kit [00:00, 11.0Mit/s]                                               \n",
            "Fetching model.ckpt.meta: 927kit [00:00, 72.3Mit/s]                                                 \n",
            "Fetching vocab.bpe: 457kit [00:00, 66.8Mit/s]                                                       \n"
          ],
          "name": "stdout"
        }
      ]
    },
    {
      "cell_type": "code",
      "metadata": {
        "id": "4vYaJ682Dn2v"
      },
      "source": [
        "os.chdir(\"src\")"
      ],
      "execution_count": 19,
      "outputs": []
    },
    {
      "cell_type": "code",
      "metadata": {
        "id": "PVt7pJZJD5Pc"
      },
      "source": [
        "import json\n",
        "import numpy as np\n",
        "import tensorflow as tf\n",
        "import model, sample, encoder\n",
        "import pandas as pd\n",
        "import numpy as np"
      ],
      "execution_count": 20,
      "outputs": []
    },
    {
      "cell_type": "markdown",
      "metadata": {
        "id": "SwxuaUziwOBR"
      },
      "source": [
        "# Loading Training Data"
      ]
    },
    {
      "cell_type": "code",
      "metadata": {
        "id": "PoG9sjZ2aaVh",
        "outputId": "42234cd8-cc11-4856-dd23-1235f7cb0e5d",
        "colab": {
          "base_uri": "https://localhost:8080/",
          "height": 224
        }
      },
      "source": [
        "df = pd.read_csv(\"/content/Simpsons.csv\")\n",
        "df.dropna(inplace = True)\n",
        "df.drop_duplicates(inplace = True)\n",
        "df.reset_index(inplace = True)\n",
        "df.drop(columns = \"index\", inplace = True)\n",
        "print(df.shape)\n",
        "df.head()"
      ],
      "execution_count": 21,
      "outputs": [
        {
          "output_type": "stream",
          "text": [
            "(126646, 2)\n"
          ],
          "name": "stdout"
        },
        {
          "output_type": "execute_result",
          "data": {
            "text/html": [
              "<div>\n",
              "<style scoped>\n",
              "    .dataframe tbody tr th:only-of-type {\n",
              "        vertical-align: middle;\n",
              "    }\n",
              "\n",
              "    .dataframe tbody tr th {\n",
              "        vertical-align: top;\n",
              "    }\n",
              "\n",
              "    .dataframe thead th {\n",
              "        text-align: right;\n",
              "    }\n",
              "</style>\n",
              "<table border=\"1\" class=\"dataframe\">\n",
              "  <thead>\n",
              "    <tr style=\"text-align: right;\">\n",
              "      <th></th>\n",
              "      <th>raw_character_text</th>\n",
              "      <th>spoken_words</th>\n",
              "    </tr>\n",
              "  </thead>\n",
              "  <tbody>\n",
              "    <tr>\n",
              "      <th>0</th>\n",
              "      <td>Miss Hoover</td>\n",
              "      <td>No, actually, it was a little of both. Sometim...</td>\n",
              "    </tr>\n",
              "    <tr>\n",
              "      <th>1</th>\n",
              "      <td>Lisa Simpson</td>\n",
              "      <td>Where's Mr. Bergstrom?</td>\n",
              "    </tr>\n",
              "    <tr>\n",
              "      <th>2</th>\n",
              "      <td>Miss Hoover</td>\n",
              "      <td>I don't know. Although I'd sure like to talk t...</td>\n",
              "    </tr>\n",
              "    <tr>\n",
              "      <th>3</th>\n",
              "      <td>Lisa Simpson</td>\n",
              "      <td>That life is worth living.</td>\n",
              "    </tr>\n",
              "    <tr>\n",
              "      <th>4</th>\n",
              "      <td>Edna Krabappel-Flanders</td>\n",
              "      <td>The polls will be open from now until the end ...</td>\n",
              "    </tr>\n",
              "  </tbody>\n",
              "</table>\n",
              "</div>"
            ],
            "text/plain": [
              "        raw_character_text                                       spoken_words\n",
              "0              Miss Hoover  No, actually, it was a little of both. Sometim...\n",
              "1             Lisa Simpson                             Where's Mr. Bergstrom?\n",
              "2              Miss Hoover  I don't know. Although I'd sure like to talk t...\n",
              "3             Lisa Simpson                         That life is worth living.\n",
              "4  Edna Krabappel-Flanders  The polls will be open from now until the end ..."
            ]
          },
          "metadata": {
            "tags": []
          },
          "execution_count": 21
        }
      ]
    },
    {
      "cell_type": "code",
      "metadata": {
        "id": "0G7TZllja1K7"
      },
      "source": [
        "def character_slice(character):\n",
        "  if character in np.unique(df[[\"raw_character_text\"]]):\n",
        "    return df[df[\"raw_character_text\"] == character]"
      ],
      "execution_count": 22,
      "outputs": []
    },
    {
      "cell_type": "code",
      "metadata": {
        "id": "oES6aUOxbAZA",
        "outputId": "ae0346b6-b75f-490e-dd55-651bdd610565",
        "colab": {
          "base_uri": "https://localhost:8080/",
          "height": 224
        }
      },
      "source": [
        "CHARACTER = \"Lisa Simpson\"\n",
        "\n",
        "character_df = character_slice(CHARACTER)\n",
        "print(character_df.shape)\n",
        "character_df.head()"
      ],
      "execution_count": 23,
      "outputs": [
        {
          "output_type": "stream",
          "text": [
            "(10144, 2)\n"
          ],
          "name": "stdout"
        },
        {
          "output_type": "execute_result",
          "data": {
            "text/html": [
              "<div>\n",
              "<style scoped>\n",
              "    .dataframe tbody tr th:only-of-type {\n",
              "        vertical-align: middle;\n",
              "    }\n",
              "\n",
              "    .dataframe tbody tr th {\n",
              "        vertical-align: top;\n",
              "    }\n",
              "\n",
              "    .dataframe thead th {\n",
              "        text-align: right;\n",
              "    }\n",
              "</style>\n",
              "<table border=\"1\" class=\"dataframe\">\n",
              "  <thead>\n",
              "    <tr style=\"text-align: right;\">\n",
              "      <th></th>\n",
              "      <th>raw_character_text</th>\n",
              "      <th>spoken_words</th>\n",
              "    </tr>\n",
              "  </thead>\n",
              "  <tbody>\n",
              "    <tr>\n",
              "      <th>1</th>\n",
              "      <td>Lisa Simpson</td>\n",
              "      <td>Where's Mr. Bergstrom?</td>\n",
              "    </tr>\n",
              "    <tr>\n",
              "      <th>3</th>\n",
              "      <td>Lisa Simpson</td>\n",
              "      <td>That life is worth living.</td>\n",
              "    </tr>\n",
              "    <tr>\n",
              "      <th>8</th>\n",
              "      <td>Lisa Simpson</td>\n",
              "      <td>Mr. Bergstrom! Mr. Bergstrom!</td>\n",
              "    </tr>\n",
              "    <tr>\n",
              "      <th>10</th>\n",
              "      <td>Lisa Simpson</td>\n",
              "      <td>Do you know where I could find him?</td>\n",
              "    </tr>\n",
              "    <tr>\n",
              "      <th>12</th>\n",
              "      <td>Lisa Simpson</td>\n",
              "      <td>The train, how like him... traditional, yet en...</td>\n",
              "    </tr>\n",
              "  </tbody>\n",
              "</table>\n",
              "</div>"
            ],
            "text/plain": [
              "   raw_character_text                                       spoken_words\n",
              "1        Lisa Simpson                             Where's Mr. Bergstrom?\n",
              "3        Lisa Simpson                         That life is worth living.\n",
              "8        Lisa Simpson                      Mr. Bergstrom! Mr. Bergstrom!\n",
              "10       Lisa Simpson                Do you know where I could find him?\n",
              "12       Lisa Simpson  The train, how like him... traditional, yet en..."
            ]
          },
          "metadata": {
            "tags": []
          },
          "execution_count": 23
        }
      ]
    },
    {
      "cell_type": "markdown",
      "metadata": {
        "id": "xM5qwL6FwQ5q"
      },
      "source": [
        "## Adding delimiters"
      ]
    },
    {
      "cell_type": "markdown",
      "metadata": {
        "id": "GPvwT5fvwdvU"
      },
      "source": [
        "This is optional - allows for retention of training data structure"
      ]
    },
    {
      "cell_type": "code",
      "metadata": {
        "id": "auawaz5MbBuB"
      },
      "source": [
        "train_data = \"\\n<|endoftext|>\\n\".join(character_df[\"spoken_words\"].values)"
      ],
      "execution_count": 24,
      "outputs": []
    },
    {
      "cell_type": "code",
      "metadata": {
        "id": "crMoK4sCdjlE"
      },
      "source": [
        "os.chdir(\"..\")\n",
        "with open(\"corpus.txt\",\"w\") as f:\n",
        "  f.write(train_data)"
      ],
      "execution_count": 25,
      "outputs": []
    },
    {
      "cell_type": "markdown",
      "metadata": {
        "id": "iZwG9SkIwnup"
      },
      "source": [
        "# Training GPT-2"
      ]
    },
    {
      "cell_type": "markdown",
      "metadata": {
        "id": "DNE4EKcwwqJj"
      },
      "source": [
        "This is an endless loop, terminate execution to stop process"
      ]
    },
    {
      "cell_type": "code",
      "metadata": {
        "id": "jwV0XBytdk74",
        "outputId": "e68724af-4d5f-44ff-a9b4-2a13c1697594",
        "colab": {
          "base_uri": "https://localhost:8080/",
          "height": 1000
        }
      },
      "source": [
        "!PYTHONPATH=src /content/gpt-2/train.py --dataset /content/gpt-2/src/corpus.txt --model_name '345M'"
      ],
      "execution_count": 26,
      "outputs": [
        {
          "output_type": "stream",
          "text": [
            "WARNING:tensorflow:From /content/gpt-2/src/gpt-2/src/model.py:147: The name tf.AUTO_REUSE is deprecated. Please use tf.compat.v1.AUTO_REUSE instead.\n",
            "\n",
            "WARNING:tensorflow:\n",
            "The TensorFlow contrib module will not be included in TensorFlow 2.0.\n",
            "For more information, please see:\n",
            "  * https://github.com/tensorflow/community/blob/master/rfcs/20180907-contrib-sunset.md\n",
            "  * https://github.com/tensorflow/addons\n",
            "  * https://github.com/tensorflow/io (for I/O related ops)\n",
            "If you depend on functionality not listed there, please file an issue.\n",
            "\n",
            "WARNING:tensorflow:From /content/gpt-2/src/gpt-2/src/memory_saving_gradients.py:13: The name tf.GraphKeys is deprecated. Please use tf.compat.v1.GraphKeys instead.\n",
            "\n",
            "WARNING:tensorflow:From /content/gpt-2/train.py:88: The name tf.ConfigProto is deprecated. Please use tf.compat.v1.ConfigProto instead.\n",
            "\n",
            "WARNING:tensorflow:From /content/gpt-2/train.py:91: The name tf.Session is deprecated. Please use tf.compat.v1.Session instead.\n",
            "\n",
            "2020-10-20 06:48:37.976891: I tensorflow/core/platform/cpu_feature_guard.cc:142] Your CPU supports instructions that this TensorFlow binary was not compiled to use: AVX2 AVX512F FMA\n",
            "2020-10-20 06:48:37.980985: I tensorflow/core/platform/profile_utils/cpu_utils.cc:94] CPU Frequency: 2000140000 Hz\n",
            "2020-10-20 06:48:37.981193: I tensorflow/compiler/xla/service/service.cc:168] XLA service 0x315b480 initialized for platform Host (this does not guarantee that XLA will be used). Devices:\n",
            "2020-10-20 06:48:37.981222: I tensorflow/compiler/xla/service/service.cc:176]   StreamExecutor device (0): Host, Default Version\n",
            "2020-10-20 06:48:37.984087: I tensorflow/stream_executor/platform/default/dso_loader.cc:44] Successfully opened dynamic library libcuda.so.1\n",
            "2020-10-20 06:48:38.122239: I tensorflow/stream_executor/cuda/cuda_gpu_executor.cc:983] successful NUMA node read from SysFS had negative value (-1), but there must be at least one NUMA node, so returning NUMA node zero\n",
            "2020-10-20 06:48:38.122894: I tensorflow/compiler/xla/service/service.cc:168] XLA service 0x315abc0 initialized for platform CUDA (this does not guarantee that XLA will be used). Devices:\n",
            "2020-10-20 06:48:38.122930: I tensorflow/compiler/xla/service/service.cc:176]   StreamExecutor device (0): Tesla T4, Compute Capability 7.5\n",
            "2020-10-20 06:48:38.123183: I tensorflow/stream_executor/cuda/cuda_gpu_executor.cc:983] successful NUMA node read from SysFS had negative value (-1), but there must be at least one NUMA node, so returning NUMA node zero\n",
            "2020-10-20 06:48:38.123779: I tensorflow/core/common_runtime/gpu/gpu_device.cc:1618] Found device 0 with properties: \n",
            "name: Tesla T4 major: 7 minor: 5 memoryClockRate(GHz): 1.59\n",
            "pciBusID: 0000:00:04.0\n",
            "2020-10-20 06:48:38.124406: I tensorflow/stream_executor/platform/default/dso_loader.cc:44] Successfully opened dynamic library libcudart.so.10.0\n",
            "2020-10-20 06:48:38.126730: I tensorflow/stream_executor/platform/default/dso_loader.cc:44] Successfully opened dynamic library libcublas.so.10.0\n",
            "2020-10-20 06:48:38.128016: I tensorflow/stream_executor/platform/default/dso_loader.cc:44] Successfully opened dynamic library libcufft.so.10.0\n",
            "2020-10-20 06:48:38.128684: I tensorflow/stream_executor/platform/default/dso_loader.cc:44] Successfully opened dynamic library libcurand.so.10.0\n",
            "2020-10-20 06:48:38.130647: I tensorflow/stream_executor/platform/default/dso_loader.cc:44] Successfully opened dynamic library libcusolver.so.10.0\n",
            "2020-10-20 06:48:38.131943: I tensorflow/stream_executor/platform/default/dso_loader.cc:44] Successfully opened dynamic library libcusparse.so.10.0\n",
            "2020-10-20 06:48:38.135935: I tensorflow/stream_executor/platform/default/dso_loader.cc:44] Successfully opened dynamic library libcudnn.so.7\n",
            "2020-10-20 06:48:38.136076: I tensorflow/stream_executor/cuda/cuda_gpu_executor.cc:983] successful NUMA node read from SysFS had negative value (-1), but there must be at least one NUMA node, so returning NUMA node zero\n",
            "2020-10-20 06:48:38.136645: I tensorflow/stream_executor/cuda/cuda_gpu_executor.cc:983] successful NUMA node read from SysFS had negative value (-1), but there must be at least one NUMA node, so returning NUMA node zero\n",
            "2020-10-20 06:48:38.137152: I tensorflow/core/common_runtime/gpu/gpu_device.cc:1746] Adding visible gpu devices: 0\n",
            "2020-10-20 06:48:38.137214: I tensorflow/stream_executor/platform/default/dso_loader.cc:44] Successfully opened dynamic library libcudart.so.10.0\n",
            "2020-10-20 06:48:38.138317: I tensorflow/core/common_runtime/gpu/gpu_device.cc:1159] Device interconnect StreamExecutor with strength 1 edge matrix:\n",
            "2020-10-20 06:48:38.138346: I tensorflow/core/common_runtime/gpu/gpu_device.cc:1165]      0 \n",
            "2020-10-20 06:48:38.138359: I tensorflow/core/common_runtime/gpu/gpu_device.cc:1178] 0:   N \n",
            "2020-10-20 06:48:38.138481: I tensorflow/stream_executor/cuda/cuda_gpu_executor.cc:983] successful NUMA node read from SysFS had negative value (-1), but there must be at least one NUMA node, so returning NUMA node zero\n",
            "2020-10-20 06:48:38.139036: I tensorflow/stream_executor/cuda/cuda_gpu_executor.cc:983] successful NUMA node read from SysFS had negative value (-1), but there must be at least one NUMA node, so returning NUMA node zero\n",
            "2020-10-20 06:48:38.139581: I tensorflow/core/common_runtime/gpu/gpu_device.cc:1304] Created TensorFlow device (/job:localhost/replica:0/task:0/device:GPU:0 with 14221 MB memory) -> physical GPU (device: 0, name: Tesla T4, pci bus id: 0000:00:04.0, compute capability: 7.5)\n",
            "WARNING:tensorflow:From /content/gpt-2/train.py:92: The name tf.placeholder is deprecated. Please use tf.compat.v1.placeholder instead.\n",
            "\n",
            "WARNING:tensorflow:From /content/gpt-2/src/gpt-2/src/model.py:148: The name tf.variable_scope is deprecated. Please use tf.compat.v1.variable_scope instead.\n",
            "\n",
            "WARNING:tensorflow:From /content/gpt-2/src/gpt-2/src/model.py:152: The name tf.get_variable is deprecated. Please use tf.compat.v1.get_variable instead.\n",
            "\n",
            "WARNING:tensorflow:From /content/gpt-2/src/gpt-2/src/model.py:36: The name tf.rsqrt is deprecated. Please use tf.math.rsqrt instead.\n",
            "\n",
            "WARNING:tensorflow:From /content/gpt-2/src/gpt-2/src/model.py:166: The name tf.add_to_collection is deprecated. Please use tf.compat.v1.add_to_collection instead.\n",
            "\n",
            "WARNING:tensorflow:From /content/gpt-2/src/gpt-2/src/sample.py:65: to_float (from tensorflow.python.ops.math_ops) is deprecated and will be removed in a future version.\n",
            "Instructions for updating:\n",
            "Use `tf.cast` instead.\n",
            "WARNING:tensorflow:From /content/gpt-2/src/gpt-2/src/sample.py:16: where (from tensorflow.python.ops.array_ops) is deprecated and will be removed in a future version.\n",
            "Instructions for updating:\n",
            "Use tf.where in 2.0, which has the same broadcast rule as np.where\n",
            "WARNING:tensorflow:From /content/gpt-2/src/gpt-2/src/sample.py:70: multinomial (from tensorflow.python.ops.random_ops) is deprecated and will be removed in a future version.\n",
            "Instructions for updating:\n",
            "Use `tf.random.categorical` instead.\n",
            "WARNING:tensorflow:From /content/gpt-2/train.py:117: The name tf.trainable_variables is deprecated. Please use tf.compat.v1.trainable_variables instead.\n",
            "\n",
            "WARNING:tensorflow:From /content/gpt-2/train.py:121: The name tf.train.AdamOptimizer is deprecated. Please use tf.compat.v1.train.AdamOptimizer instead.\n",
            "\n",
            "WARNING:tensorflow:From /content/gpt-2/src/gpt-2/src/memory_saving_gradients.py:62: get_backward_walk_ops (from tensorflow.contrib.graph_editor.select) is deprecated and will be removed after 2019-06-06.\n",
            "Instructions for updating:\n",
            "Please use tensorflow.python.ops.op_selector.get_backward_walk_ops.\n",
            "WARNING:tensorflow:From /content/gpt-2/src/gpt-2/src/memory_saving_gradients.py:89: The name tf.get_collection is deprecated. Please use tf.compat.v1.get_collection instead.\n",
            "\n",
            "WARNING:tensorflow:From /content/gpt-2/train.py:144: The name tf.summary.scalar is deprecated. Please use tf.compat.v1.summary.scalar instead.\n",
            "\n",
            "WARNING:tensorflow:From /content/gpt-2/train.py:147: The name tf.summary.merge is deprecated. Please use tf.compat.v1.summary.merge instead.\n",
            "\n",
            "WARNING:tensorflow:From /content/gpt-2/train.py:149: The name tf.summary.FileWriter is deprecated. Please use tf.compat.v1.summary.FileWriter instead.\n",
            "\n",
            "WARNING:tensorflow:From /content/gpt-2/train.py:152: The name tf.train.Saver is deprecated. Please use tf.compat.v1.train.Saver instead.\n",
            "\n",
            "WARNING:tensorflow:From /content/gpt-2/train.py:156: The name tf.global_variables_initializer is deprecated. Please use tf.compat.v1.global_variables_initializer instead.\n",
            "\n",
            "2020-10-20 06:49:00.523556: W tensorflow/core/framework/cpu_allocator_impl.cc:81] Allocation of 16777216 exceeds 10% of system memory.\n",
            "2020-10-20 06:49:00.531307: W tensorflow/core/framework/cpu_allocator_impl.cc:81] Allocation of 16777216 exceeds 10% of system memory.\n",
            "2020-10-20 06:49:00.540516: W tensorflow/core/framework/cpu_allocator_impl.cc:81] Allocation of 16777216 exceeds 10% of system memory.\n",
            "2020-10-20 06:49:00.543299: W tensorflow/core/framework/cpu_allocator_impl.cc:81] Allocation of 16777216 exceeds 10% of system memory.\n",
            "2020-10-20 06:49:00.546039: W tensorflow/core/framework/cpu_allocator_impl.cc:81] Allocation of 16777216 exceeds 10% of system memory.\n",
            "Loading checkpoint models/345M/model.ckpt\n",
            "Loading dataset...\n",
            "100% 1/1 [00:01<00:00,  1.12s/it]\n",
            "dataset has 229645 tokens\n",
            "Training...\n",
            "2020-10-20 06:49:19.934076: I tensorflow/stream_executor/platform/default/dso_loader.cc:44] Successfully opened dynamic library libcublas.so.10.0\n",
            "[1 | 9.55] loss=2.11 avg=2.11\n",
            "[2 | 11.06] loss=2.16 avg=2.14\n",
            "[3 | 12.57] loss=2.08 avg=2.12\n",
            "[4 | 14.08] loss=2.15 avg=2.13\n",
            "[5 | 15.59] loss=1.93 avg=2.09\n",
            "[6 | 17.11] loss=2.06 avg=2.08\n",
            "[7 | 18.63] loss=2.24 avg=2.11\n",
            "[8 | 20.15] loss=2.20 avg=2.12\n",
            "[9 | 21.67] loss=2.26 avg=2.13\n",
            "[10 | 23.20] loss=1.93 avg=2.11\n",
            "[11 | 24.73] loss=2.22 avg=2.12\n",
            "[12 | 26.27] loss=2.15 avg=2.13\n",
            "[13 | 27.81] loss=2.19 avg=2.13\n",
            "[14 | 29.35] loss=2.21 avg=2.14\n",
            "[15 | 30.89] loss=2.13 avg=2.14\n",
            "[16 | 32.44] loss=2.11 avg=2.13\n",
            "[17 | 33.99] loss=2.08 avg=2.13\n",
            "[18 | 35.54] loss=2.03 avg=2.12\n",
            "[19 | 37.10] loss=2.12 avg=2.12\n",
            "[20 | 38.66] loss=1.92 avg=2.11\n",
            "[21 | 40.22] loss=2.20 avg=2.12\n",
            "[22 | 41.78] loss=2.19 avg=2.12\n",
            "[23 | 43.35] loss=1.92 avg=2.11\n",
            "[24 | 44.93] loss=2.10 avg=2.11\n",
            "[25 | 46.51] loss=2.33 avg=2.12\n",
            "[26 | 48.08] loss=2.06 avg=2.12\n",
            "[27 | 49.65] loss=2.19 avg=2.12\n",
            "[28 | 51.24] loss=2.22 avg=2.13\n",
            "[29 | 52.82] loss=2.09 avg=2.12\n",
            "[30 | 54.41] loss=2.08 avg=2.12\n",
            "[31 | 56.00] loss=2.13 avg=2.12\n",
            "[32 | 57.59] loss=2.06 avg=2.12\n",
            "[33 | 59.19] loss=2.24 avg=2.12\n",
            "[34 | 60.80] loss=2.05 avg=2.12\n",
            "[35 | 62.40] loss=2.10 avg=2.12\n",
            "[36 | 64.01] loss=1.94 avg=2.12\n",
            "[37 | 65.63] loss=1.98 avg=2.11\n",
            "[38 | 67.25] loss=1.96 avg=2.11\n",
            "[39 | 68.88] loss=1.82 avg=2.10\n",
            "[40 | 70.52] loss=2.22 avg=2.10\n",
            "[41 | 72.16] loss=1.91 avg=2.09\n",
            "[42 | 73.81] loss=2.06 avg=2.09\n",
            "[43 | 75.47] loss=1.70 avg=2.08\n",
            "[44 | 77.12] loss=1.93 avg=2.08\n",
            "[45 | 78.78] loss=2.07 avg=2.08\n",
            "[46 | 80.44] loss=2.01 avg=2.08\n",
            "[47 | 82.10] loss=2.00 avg=2.07\n",
            "[48 | 83.77] loss=1.87 avg=2.07\n",
            "[49 | 85.43] loss=2.36 avg=2.08\n",
            "[50 | 87.08] loss=1.97 avg=2.07\n",
            "[51 | 88.74] loss=2.04 avg=2.07\n",
            "[52 | 90.38] loss=1.70 avg=2.06\n",
            "[53 | 92.03] loss=2.06 avg=2.06\n",
            "[54 | 93.66] loss=1.90 avg=2.06\n",
            "[55 | 95.29] loss=1.91 avg=2.06\n",
            "[56 | 96.92] loss=1.94 avg=2.05\n",
            "[57 | 98.55] loss=2.01 avg=2.05\n",
            "interrupted\n",
            "Saving checkpoint/run1/model-58\n"
          ],
          "name": "stdout"
        }
      ]
    },
    {
      "cell_type": "markdown",
      "metadata": {
        "id": "LGpm0YLew1Hw"
      },
      "source": [
        "# Generation"
      ]
    },
    {
      "cell_type": "markdown",
      "metadata": {
        "id": "JyximRuvw3Ht"
      },
      "source": [
        "## User Prompt"
      ]
    },
    {
      "cell_type": "code",
      "metadata": {
        "id": "bkkPAh41e9Zh",
        "outputId": "f3be3c77-9f0c-4dd1-90fa-056510d7f2a8",
        "colab": {
          "base_uri": "https://localhost:8080/",
          "height": 1000
        }
      },
      "source": [
        "!python3 src/interactive_conditional_samples.py --top_k 40 --model_name \"345M\""
      ],
      "execution_count": 27,
      "outputs": [
        {
          "output_type": "stream",
          "text": [
            "WARNING:tensorflow:From /content/gpt-2/src/gpt-2/src/model.py:147: The name tf.AUTO_REUSE is deprecated. Please use tf.compat.v1.AUTO_REUSE instead.\n",
            "\n",
            "WARNING:tensorflow:From src/interactive_conditional_samples.py:55: The name tf.Session is deprecated. Please use tf.compat.v1.Session instead.\n",
            "\n",
            "2020-10-20 06:51:04.198317: I tensorflow/stream_executor/platform/default/dso_loader.cc:44] Successfully opened dynamic library libcuda.so.1\n",
            "2020-10-20 06:51:04.235850: I tensorflow/stream_executor/cuda/cuda_gpu_executor.cc:983] successful NUMA node read from SysFS had negative value (-1), but there must be at least one NUMA node, so returning NUMA node zero\n",
            "2020-10-20 06:51:04.236412: I tensorflow/core/common_runtime/gpu/gpu_device.cc:1618] Found device 0 with properties: \n",
            "name: Tesla T4 major: 7 minor: 5 memoryClockRate(GHz): 1.59\n",
            "pciBusID: 0000:00:04.0\n",
            "2020-10-20 06:51:04.236695: I tensorflow/stream_executor/platform/default/dso_loader.cc:44] Successfully opened dynamic library libcudart.so.10.0\n",
            "2020-10-20 06:51:04.237709: I tensorflow/stream_executor/platform/default/dso_loader.cc:44] Successfully opened dynamic library libcublas.so.10.0\n",
            "2020-10-20 06:51:04.238717: I tensorflow/stream_executor/platform/default/dso_loader.cc:44] Successfully opened dynamic library libcufft.so.10.0\n",
            "2020-10-20 06:51:04.239060: I tensorflow/stream_executor/platform/default/dso_loader.cc:44] Successfully opened dynamic library libcurand.so.10.0\n",
            "2020-10-20 06:51:04.240299: I tensorflow/stream_executor/platform/default/dso_loader.cc:44] Successfully opened dynamic library libcusolver.so.10.0\n",
            "2020-10-20 06:51:04.241245: I tensorflow/stream_executor/platform/default/dso_loader.cc:44] Successfully opened dynamic library libcusparse.so.10.0\n",
            "2020-10-20 06:51:04.244191: I tensorflow/stream_executor/platform/default/dso_loader.cc:44] Successfully opened dynamic library libcudnn.so.7\n",
            "2020-10-20 06:51:04.244303: I tensorflow/stream_executor/cuda/cuda_gpu_executor.cc:983] successful NUMA node read from SysFS had negative value (-1), but there must be at least one NUMA node, so returning NUMA node zero\n",
            "2020-10-20 06:51:04.244839: I tensorflow/stream_executor/cuda/cuda_gpu_executor.cc:983] successful NUMA node read from SysFS had negative value (-1), but there must be at least one NUMA node, so returning NUMA node zero\n",
            "2020-10-20 06:51:04.245330: I tensorflow/core/common_runtime/gpu/gpu_device.cc:1746] Adding visible gpu devices: 0\n",
            "2020-10-20 06:51:04.245671: I tensorflow/core/platform/cpu_feature_guard.cc:142] Your CPU supports instructions that this TensorFlow binary was not compiled to use: AVX2 AVX512F FMA\n",
            "2020-10-20 06:51:04.249710: I tensorflow/core/platform/profile_utils/cpu_utils.cc:94] CPU Frequency: 2000140000 Hz\n",
            "2020-10-20 06:51:04.249905: I tensorflow/compiler/xla/service/service.cc:168] XLA service 0x22b1640 initialized for platform Host (this does not guarantee that XLA will be used). Devices:\n",
            "2020-10-20 06:51:04.249938: I tensorflow/compiler/xla/service/service.cc:176]   StreamExecutor device (0): Host, Default Version\n",
            "2020-10-20 06:51:04.339288: I tensorflow/stream_executor/cuda/cuda_gpu_executor.cc:983] successful NUMA node read from SysFS had negative value (-1), but there must be at least one NUMA node, so returning NUMA node zero\n",
            "2020-10-20 06:51:04.339925: I tensorflow/compiler/xla/service/service.cc:168] XLA service 0x22b0d80 initialized for platform CUDA (this does not guarantee that XLA will be used). Devices:\n",
            "2020-10-20 06:51:04.339956: I tensorflow/compiler/xla/service/service.cc:176]   StreamExecutor device (0): Tesla T4, Compute Capability 7.5\n",
            "2020-10-20 06:51:04.340159: I tensorflow/stream_executor/cuda/cuda_gpu_executor.cc:983] successful NUMA node read from SysFS had negative value (-1), but there must be at least one NUMA node, so returning NUMA node zero\n",
            "2020-10-20 06:51:04.340660: I tensorflow/core/common_runtime/gpu/gpu_device.cc:1618] Found device 0 with properties: \n",
            "name: Tesla T4 major: 7 minor: 5 memoryClockRate(GHz): 1.59\n",
            "pciBusID: 0000:00:04.0\n",
            "2020-10-20 06:51:04.340731: I tensorflow/stream_executor/platform/default/dso_loader.cc:44] Successfully opened dynamic library libcudart.so.10.0\n",
            "2020-10-20 06:51:04.340754: I tensorflow/stream_executor/platform/default/dso_loader.cc:44] Successfully opened dynamic library libcublas.so.10.0\n",
            "2020-10-20 06:51:04.340781: I tensorflow/stream_executor/platform/default/dso_loader.cc:44] Successfully opened dynamic library libcufft.so.10.0\n",
            "2020-10-20 06:51:04.340801: I tensorflow/stream_executor/platform/default/dso_loader.cc:44] Successfully opened dynamic library libcurand.so.10.0\n",
            "2020-10-20 06:51:04.340819: I tensorflow/stream_executor/platform/default/dso_loader.cc:44] Successfully opened dynamic library libcusolver.so.10.0\n",
            "2020-10-20 06:51:04.340840: I tensorflow/stream_executor/platform/default/dso_loader.cc:44] Successfully opened dynamic library libcusparse.so.10.0\n",
            "2020-10-20 06:51:04.340862: I tensorflow/stream_executor/platform/default/dso_loader.cc:44] Successfully opened dynamic library libcudnn.so.7\n",
            "2020-10-20 06:51:04.340933: I tensorflow/stream_executor/cuda/cuda_gpu_executor.cc:983] successful NUMA node read from SysFS had negative value (-1), but there must be at least one NUMA node, so returning NUMA node zero\n",
            "2020-10-20 06:51:04.341509: I tensorflow/stream_executor/cuda/cuda_gpu_executor.cc:983] successful NUMA node read from SysFS had negative value (-1), but there must be at least one NUMA node, so returning NUMA node zero\n",
            "2020-10-20 06:51:04.341991: I tensorflow/core/common_runtime/gpu/gpu_device.cc:1746] Adding visible gpu devices: 0\n",
            "2020-10-20 06:51:04.342051: I tensorflow/stream_executor/platform/default/dso_loader.cc:44] Successfully opened dynamic library libcudart.so.10.0\n",
            "2020-10-20 06:51:04.343197: I tensorflow/core/common_runtime/gpu/gpu_device.cc:1159] Device interconnect StreamExecutor with strength 1 edge matrix:\n",
            "2020-10-20 06:51:04.343230: I tensorflow/core/common_runtime/gpu/gpu_device.cc:1165]      0 \n",
            "2020-10-20 06:51:04.343244: I tensorflow/core/common_runtime/gpu/gpu_device.cc:1178] 0:   N \n",
            "2020-10-20 06:51:04.343368: I tensorflow/stream_executor/cuda/cuda_gpu_executor.cc:983] successful NUMA node read from SysFS had negative value (-1), but there must be at least one NUMA node, so returning NUMA node zero\n",
            "2020-10-20 06:51:04.343915: I tensorflow/stream_executor/cuda/cuda_gpu_executor.cc:983] successful NUMA node read from SysFS had negative value (-1), but there must be at least one NUMA node, so returning NUMA node zero\n",
            "2020-10-20 06:51:04.344437: W tensorflow/core/common_runtime/gpu/gpu_bfc_allocator.cc:39] Overriding allow_growth setting because the TF_FORCE_GPU_ALLOW_GROWTH environment variable is set. Original config value was 0.\n",
            "2020-10-20 06:51:04.344476: I tensorflow/core/common_runtime/gpu/gpu_device.cc:1304] Created TensorFlow device (/job:localhost/replica:0/task:0/device:GPU:0 with 14221 MB memory) -> physical GPU (device: 0, name: Tesla T4, pci bus id: 0000:00:04.0, compute capability: 7.5)\n",
            "WARNING:tensorflow:From src/interactive_conditional_samples.py:56: The name tf.placeholder is deprecated. Please use tf.compat.v1.placeholder instead.\n",
            "\n",
            "WARNING:tensorflow:From src/interactive_conditional_samples.py:58: The name tf.set_random_seed is deprecated. Please use tf.compat.v1.set_random_seed instead.\n",
            "\n",
            "WARNING:tensorflow:From /content/gpt-2/src/gpt-2/src/model.py:148: The name tf.variable_scope is deprecated. Please use tf.compat.v1.variable_scope instead.\n",
            "\n",
            "WARNING:tensorflow:From /content/gpt-2/src/gpt-2/src/model.py:152: The name tf.get_variable is deprecated. Please use tf.compat.v1.get_variable instead.\n",
            "\n",
            "WARNING:tensorflow:From /content/gpt-2/src/gpt-2/src/model.py:36: The name tf.rsqrt is deprecated. Please use tf.math.rsqrt instead.\n",
            "\n",
            "WARNING:tensorflow:From /content/gpt-2/src/gpt-2/src/model.py:166: The name tf.add_to_collection is deprecated. Please use tf.compat.v1.add_to_collection instead.\n",
            "\n",
            "WARNING:tensorflow:From /content/gpt-2/src/gpt-2/src/sample.py:65: to_float (from tensorflow.python.ops.math_ops) is deprecated and will be removed in a future version.\n",
            "Instructions for updating:\n",
            "Use `tf.cast` instead.\n",
            "WARNING:tensorflow:From /content/gpt-2/src/gpt-2/src/sample.py:16: where (from tensorflow.python.ops.array_ops) is deprecated and will be removed in a future version.\n",
            "Instructions for updating:\n",
            "Use tf.where in 2.0, which has the same broadcast rule as np.where\n",
            "WARNING:tensorflow:From /content/gpt-2/src/gpt-2/src/sample.py:70: multinomial (from tensorflow.python.ops.random_ops) is deprecated and will be removed in a future version.\n",
            "Instructions for updating:\n",
            "Use `tf.random.categorical` instead.\n",
            "WARNING:tensorflow:From src/interactive_conditional_samples.py:66: The name tf.train.Saver is deprecated. Please use tf.compat.v1.train.Saver instead.\n",
            "\n",
            "Model prompt >>> Bart why are you doing this\n",
            "2020-10-20 06:51:51.041562: I tensorflow/stream_executor/platform/default/dso_loader.cc:44] Successfully opened dynamic library libcublas.so.10.0\n",
            "======================================== SAMPLE 1 ========================================\n",
            "? This is bullshit. If you tell me to eat this, I'll have to do it. Why is she making me do it? Because she tells me to. That's what she does.\"\n",
            "\n",
            "When I ask her if she's jealous, she says, \"No she isn't. She tells me to. She calls me a fool for going along with her.\"\n",
            "\n",
            "If I can ask the question that we're all thinking in our heads all the time — that a woman will do anything in her power for her power's sake — why are men so sure that this is what women do?\n",
            "\n",
            "And why are men so obsessed with it? What has kept them from seeing women doing things for themselves?\n",
            "\n",
            "You see, while I agree that men want more of themselves in all aspects of their lives, and that their sexual and romantic life need more love and attention from women, men don't believe women do what women want them to do.\n",
            "\n",
            "They think they don't have to. In fact, for the male gender, as I'll discuss, every single woman on the planet has to give up a part of herself for love. That means you and me, our mothers, boyfriends, wives, sisters, friends, bosses or even the same human being, we each have a part of me that can't be served by women because we don't belong to them anymore.\n",
            "\n",
            "I will tell you that I'd be dead if I didn't believe in myself more than I believe in men. I've seen how this works in every direction. The more I learn, the more I see patterns in myself, and in women — and even in men — and in situations and situations and situations — that the male gender would look like they're working themselves into trouble.\n",
            "\n",
            "I once took off my top for a guy that I was dating, and I'm pretty sure that when we started having sex. He didn't know I was looking. He didn't realize what it meant. I'm sure he didn't know that I was looking at him. He was in too deep, trying to be with me. You'll have seen me on some shows where a woman is making out with a guy.\n",
            "\n",
            "I'm not saying that it's okay for a man to do that, because that might not make her feel right. And when a woman doesn't feel right, then she doesn't care enough to do something with the men and be the one causing tension and chaos. And when the tension and\n",
            "================================================================================\n",
            "Model prompt >>> Traceback (most recent call last):\n",
            "  File \"/usr/lib/python3.6/contextlib.py\", line 99, in __exit__\n",
            "    self.gen.throw(type, value, traceback)\n",
            "  File \"/usr/local/lib/python3.6/dist-packages/tensorflow_core/python/framework/ops.py\", line 5480, in get_controller\n",
            "    yield g\n",
            "  File \"src/interactive_conditional_samples.py\", line 71, in interact_model\n",
            "    raw_text = input(\"Model prompt >>> \")\n",
            "KeyboardInterrupt\n",
            "\n",
            "During handling of the above exception, another exception occurred:\n",
            "\n",
            "Traceback (most recent call last):\n",
            "  File \"src/interactive_conditional_samples.py\", line 89, in <module>\n",
            "    fire.Fire(interact_model)\n",
            "  File \"/usr/local/lib/python3.6/dist-packages/fire/core.py\", line 138, in Fire\n",
            "    component_trace = _Fire(component, args, parsed_flag_args, context, name)\n",
            "  File \"/usr/local/lib/python3.6/dist-packages/fire/core.py\", line 468, in _Fire\n",
            "    target=component.__name__)\n",
            "  File \"/usr/local/lib/python3.6/dist-packages/fire/core.py\", line 672, in _CallAndUpdateTrace\n",
            "    component = fn(*varargs, **kwargs)\n",
            "  File \"src/interactive_conditional_samples.py\", line 86, in interact_model\n",
            "    print(\"=\" * 80)\n",
            "  File \"/usr/local/lib/python3.6/dist-packages/tensorflow_core/python/client/session.py\", line 1633, in __exit__\n",
            "    close_thread.start()\n",
            "  File \"/usr/lib/python3.6/threading.py\", line 851, in start\n",
            "    self._started.wait()\n",
            "  File \"/usr/lib/python3.6/threading.py\", line 551, in wait\n",
            "    signaled = self._cond.wait(timeout)\n",
            "  File \"/usr/lib/python3.6/threading.py\", line 295, in wait\n",
            "    waiter.acquire()\n",
            "KeyboardInterrupt\n"
          ],
          "name": "stdout"
        }
      ]
    },
    {
      "cell_type": "markdown",
      "metadata": {
        "id": "xx3WuCQew594"
      },
      "source": [
        "## Random Sampling"
      ]
    },
    {
      "cell_type": "code",
      "metadata": {
        "id": "bFdySBgNqq05",
        "outputId": "d7593cf0-dc91-41d0-b018-59ce6882e474",
        "colab": {
          "base_uri": "https://localhost:8080/",
          "height": 1000
        }
      },
      "source": [
        "!python3 src/generate_unconditional_samples.py --model_name \"345M\" | tee /tmp/samples"
      ],
      "execution_count": 28,
      "outputs": [
        {
          "output_type": "stream",
          "text": [
            "WARNING:tensorflow:From /content/gpt-2/src/gpt-2/src/model.py:147: The name tf.AUTO_REUSE is deprecated. Please use tf.compat.v1.AUTO_REUSE instead.\n",
            "\n",
            "WARNING:tensorflow:From src/generate_unconditional_samples.py:52: The name tf.Session is deprecated. Please use tf.compat.v1.Session instead.\n",
            "\n",
            "2020-10-20 06:52:15.379814: I tensorflow/stream_executor/platform/default/dso_loader.cc:44] Successfully opened dynamic library libcuda.so.1\n",
            "2020-10-20 06:52:15.411850: I tensorflow/stream_executor/cuda/cuda_gpu_executor.cc:983] successful NUMA node read from SysFS had negative value (-1), but there must be at least one NUMA node, so returning NUMA node zero\n",
            "2020-10-20 06:52:15.412416: I tensorflow/core/common_runtime/gpu/gpu_device.cc:1618] Found device 0 with properties: \n",
            "name: Tesla T4 major: 7 minor: 5 memoryClockRate(GHz): 1.59\n",
            "pciBusID: 0000:00:04.0\n",
            "2020-10-20 06:52:15.412689: I tensorflow/stream_executor/platform/default/dso_loader.cc:44] Successfully opened dynamic library libcudart.so.10.0\n",
            "2020-10-20 06:52:15.413693: I tensorflow/stream_executor/platform/default/dso_loader.cc:44] Successfully opened dynamic library libcublas.so.10.0\n",
            "2020-10-20 06:52:15.414698: I tensorflow/stream_executor/platform/default/dso_loader.cc:44] Successfully opened dynamic library libcufft.so.10.0\n",
            "2020-10-20 06:52:15.415023: I tensorflow/stream_executor/platform/default/dso_loader.cc:44] Successfully opened dynamic library libcurand.so.10.0\n",
            "2020-10-20 06:52:15.416374: I tensorflow/stream_executor/platform/default/dso_loader.cc:44] Successfully opened dynamic library libcusolver.so.10.0\n",
            "2020-10-20 06:52:15.417277: I tensorflow/stream_executor/platform/default/dso_loader.cc:44] Successfully opened dynamic library libcusparse.so.10.0\n",
            "2020-10-20 06:52:15.420219: I tensorflow/stream_executor/platform/default/dso_loader.cc:44] Successfully opened dynamic library libcudnn.so.7\n",
            "2020-10-20 06:52:15.420346: I tensorflow/stream_executor/cuda/cuda_gpu_executor.cc:983] successful NUMA node read from SysFS had negative value (-1), but there must be at least one NUMA node, so returning NUMA node zero\n",
            "2020-10-20 06:52:15.420888: I tensorflow/stream_executor/cuda/cuda_gpu_executor.cc:983] successful NUMA node read from SysFS had negative value (-1), but there must be at least one NUMA node, so returning NUMA node zero\n",
            "2020-10-20 06:52:15.421406: I tensorflow/core/common_runtime/gpu/gpu_device.cc:1746] Adding visible gpu devices: 0\n",
            "2020-10-20 06:52:15.421778: I tensorflow/core/platform/cpu_feature_guard.cc:142] Your CPU supports instructions that this TensorFlow binary was not compiled to use: AVX2 AVX512F FMA\n",
            "2020-10-20 06:52:15.426011: I tensorflow/core/platform/profile_utils/cpu_utils.cc:94] CPU Frequency: 2000140000 Hz\n",
            "2020-10-20 06:52:15.426234: I tensorflow/compiler/xla/service/service.cc:168] XLA service 0x255f640 initialized for platform Host (this does not guarantee that XLA will be used). Devices:\n",
            "2020-10-20 06:52:15.426261: I tensorflow/compiler/xla/service/service.cc:176]   StreamExecutor device (0): Host, Default Version\n",
            "2020-10-20 06:52:15.515948: I tensorflow/stream_executor/cuda/cuda_gpu_executor.cc:983] successful NUMA node read from SysFS had negative value (-1), but there must be at least one NUMA node, so returning NUMA node zero\n",
            "2020-10-20 06:52:15.516618: I tensorflow/compiler/xla/service/service.cc:168] XLA service 0x255ed80 initialized for platform CUDA (this does not guarantee that XLA will be used). Devices:\n",
            "2020-10-20 06:52:15.516648: I tensorflow/compiler/xla/service/service.cc:176]   StreamExecutor device (0): Tesla T4, Compute Capability 7.5\n",
            "2020-10-20 06:52:15.516819: I tensorflow/stream_executor/cuda/cuda_gpu_executor.cc:983] successful NUMA node read from SysFS had negative value (-1), but there must be at least one NUMA node, so returning NUMA node zero\n",
            "2020-10-20 06:52:15.517348: I tensorflow/core/common_runtime/gpu/gpu_device.cc:1618] Found device 0 with properties: \n",
            "name: Tesla T4 major: 7 minor: 5 memoryClockRate(GHz): 1.59\n",
            "pciBusID: 0000:00:04.0\n",
            "2020-10-20 06:52:15.517411: I tensorflow/stream_executor/platform/default/dso_loader.cc:44] Successfully opened dynamic library libcudart.so.10.0\n",
            "2020-10-20 06:52:15.517434: I tensorflow/stream_executor/platform/default/dso_loader.cc:44] Successfully opened dynamic library libcublas.so.10.0\n",
            "2020-10-20 06:52:15.517454: I tensorflow/stream_executor/platform/default/dso_loader.cc:44] Successfully opened dynamic library libcufft.so.10.0\n",
            "2020-10-20 06:52:15.517472: I tensorflow/stream_executor/platform/default/dso_loader.cc:44] Successfully opened dynamic library libcurand.so.10.0\n",
            "2020-10-20 06:52:15.517491: I tensorflow/stream_executor/platform/default/dso_loader.cc:44] Successfully opened dynamic library libcusolver.so.10.0\n",
            "2020-10-20 06:52:15.517510: I tensorflow/stream_executor/platform/default/dso_loader.cc:44] Successfully opened dynamic library libcusparse.so.10.0\n",
            "2020-10-20 06:52:15.517528: I tensorflow/stream_executor/platform/default/dso_loader.cc:44] Successfully opened dynamic library libcudnn.so.7\n",
            "2020-10-20 06:52:15.517595: I tensorflow/stream_executor/cuda/cuda_gpu_executor.cc:983] successful NUMA node read from SysFS had negative value (-1), but there must be at least one NUMA node, so returning NUMA node zero\n",
            "2020-10-20 06:52:15.518136: I tensorflow/stream_executor/cuda/cuda_gpu_executor.cc:983] successful NUMA node read from SysFS had negative value (-1), but there must be at least one NUMA node, so returning NUMA node zero\n",
            "2020-10-20 06:52:15.518606: I tensorflow/core/common_runtime/gpu/gpu_device.cc:1746] Adding visible gpu devices: 0\n",
            "2020-10-20 06:52:15.518682: I tensorflow/stream_executor/platform/default/dso_loader.cc:44] Successfully opened dynamic library libcudart.so.10.0\n",
            "2020-10-20 06:52:15.519774: I tensorflow/core/common_runtime/gpu/gpu_device.cc:1159] Device interconnect StreamExecutor with strength 1 edge matrix:\n",
            "2020-10-20 06:52:15.519801: I tensorflow/core/common_runtime/gpu/gpu_device.cc:1165]      0 \n",
            "2020-10-20 06:52:15.519811: I tensorflow/core/common_runtime/gpu/gpu_device.cc:1178] 0:   N \n",
            "2020-10-20 06:52:15.519917: I tensorflow/stream_executor/cuda/cuda_gpu_executor.cc:983] successful NUMA node read from SysFS had negative value (-1), but there must be at least one NUMA node, so returning NUMA node zero\n",
            "2020-10-20 06:52:15.520480: I tensorflow/stream_executor/cuda/cuda_gpu_executor.cc:983] successful NUMA node read from SysFS had negative value (-1), but there must be at least one NUMA node, so returning NUMA node zero\n",
            "2020-10-20 06:52:15.520970: W tensorflow/core/common_runtime/gpu/gpu_bfc_allocator.cc:39] Overriding allow_growth setting because the TF_FORCE_GPU_ALLOW_GROWTH environment variable is set. Original config value was 0.\n",
            "2020-10-20 06:52:15.521012: I tensorflow/core/common_runtime/gpu/gpu_device.cc:1304] Created TensorFlow device (/job:localhost/replica:0/task:0/device:GPU:0 with 14221 MB memory) -> physical GPU (device: 0, name: Tesla T4, pci bus id: 0000:00:04.0, compute capability: 7.5)\n",
            "WARNING:tensorflow:From src/generate_unconditional_samples.py:54: The name tf.set_random_seed is deprecated. Please use tf.compat.v1.set_random_seed instead.\n",
            "\n",
            "WARNING:tensorflow:From /content/gpt-2/src/gpt-2/src/model.py:148: The name tf.variable_scope is deprecated. Please use tf.compat.v1.variable_scope instead.\n",
            "\n",
            "WARNING:tensorflow:From /content/gpt-2/src/gpt-2/src/model.py:152: The name tf.get_variable is deprecated. Please use tf.compat.v1.get_variable instead.\n",
            "\n",
            "WARNING:tensorflow:From /content/gpt-2/src/gpt-2/src/model.py:36: The name tf.rsqrt is deprecated. Please use tf.math.rsqrt instead.\n",
            "\n",
            "WARNING:tensorflow:From /content/gpt-2/src/gpt-2/src/model.py:166: The name tf.add_to_collection is deprecated. Please use tf.compat.v1.add_to_collection instead.\n",
            "\n",
            "WARNING:tensorflow:From /content/gpt-2/src/gpt-2/src/sample.py:65: to_float (from tensorflow.python.ops.math_ops) is deprecated and will be removed in a future version.\n",
            "Instructions for updating:\n",
            "Use `tf.cast` instead.\n",
            "WARNING:tensorflow:From /content/gpt-2/src/gpt-2/src/sample.py:70: multinomial (from tensorflow.python.ops.random_ops) is deprecated and will be removed in a future version.\n",
            "Instructions for updating:\n",
            "Use `tf.random.categorical` instead.\n",
            "WARNING:tensorflow:From src/generate_unconditional_samples.py:63: The name tf.train.Saver is deprecated. Please use tf.compat.v1.train.Saver instead.\n",
            "\n",
            "2020-10-20 06:52:24.359816: I tensorflow/stream_executor/platform/default/dso_loader.cc:44] Successfully opened dynamic library libcublas.so.10.0\n",
            "======================================== SAMPLE 1 ========================================\n",
            "We like to talk with the writers of our team about a variety of different topics, whether it be aging communities, pop culture reference points, or how home remedies might restrain us in the Big Sky. But sometimes we go and get much more than what we see or hear. And Tony was kind enough to explain in sound bites some of our favorite moments from the week-long Geekhack West meetings this past weekend. Enjoy!\n",
            "\n",
            "\n",
            "We had two talk leads for the week-long Geekhack West Audio Exchange ~less awkward launch remarks and more dramatic talking by the audience~: Greg Osborne as Sam Fenster, Tony Fincher as Hidetaka Miyazaki\n",
            "\n",
            "\n",
            "Night Moon Spring Challenge: A colla de cucumbers challenge between Greg Osborne, Tony Fincher, and Ariel Minassian\n",
            "\n",
            "\n",
            "Escape from Marvin 191: Set demonstrations of Odework Grove, Liquor Place saloon, and chapter 01\n",
            "\n",
            "\n",
            "Winted Runner: Scenario light novel series focusing on \"Mr. Gold.\" Brings inspiration from Seraphim, Ulrstrom, and Crime Movies\n",
            "\n",
            "\n",
            "Hillbound & Hillbound 001: Pre-mentioned Jim Harbaugh football note [?]\n",
            "\n",
            "\n",
            "Imagination Square 4: Formation Cerberus, Rotating Infinity, Broken Gun*, apparently airboarchy, curately FPS0TX overlay guide, and strictly installation-demose status\n",
            "\n",
            "\n",
            "Darkheart Con 2011 TPSs. Kerry Grant (@jamessgraney), Jordan Alexander, Lee Silcox, Stef Cobbett, Jonathon Sullivan, Steve Snodgrass, Max Stewart, Kent McGough, and little sister\n",
            "\n",
            "FARTING WITCH: A SISTER MOVIE about a witch from Ohio late in modern day American History 020\n",
            "\n",
            "\n",
            "MDKoffins: Dawn Russander / Animosity of Sloth (Teaser) from Alicorns Sister DVD\n",
            "\n",
            "\n",
            "Windhaven Storytelling. \"Sshould Drop Bloody Footprints with a Poets Blessing Selection, Livin' Little Shepherd down a Barn Bird Run/ feat. Makai Kitleen\n",
            "\n",
            "\n",
            "Stuffed Weems Guest Randall Roberts\n",
            "\n",
            "\n",
            "Elephant Wire: The Haunting of Preston Lockwood editor Willy Koo\n",
            "\n",
            "\n",
            "Twin Peaks TV Theme \"Guess Who Recognized You\" with guest moebius & polityrick pop/groovin'\n",
            "\n",
            "\n",
            "How to Write with Grasshopper Ink\n",
            "\n",
            "\n",
            "Twin Peaks on Rainbowman Bystander Series\n",
            "\n",
            "\n",
            "How to toy with Cathedralsates for 10 Minutes in Flames\n",
            "\n",
            "Just a Their20 Newsletter from Greg Osborne (incl. Cody Gardenerson guest Burnett CologhanAstookyCondymesDarkuns Keep annual game summer kicking for us. Do it while we're winning the Super Rockstar Takeover Breakthrough Showdown. The game's definitely more interesting now that Joan Campbell got called out on Twitter. Check it out here! And don't forget to visit Jordan Remar in his makeshift videocoding studio. That took hours. Thanks Greg and Jordan. We've gotta enjoy these moments of resourcefulness together at Drew Dorothy's blog, Kirbymixery.com. Just kidding, but we can imagine these chapters enticing arguments both inside and outside televangelism. Jordan Remar, adventures have take many factors into account. The geographic pattern of TCWD events and provocations overall will certainly contribute in the short term. But after two days in a row discussing the spoiler troubles of Tanner to Pines with Chase Moontower and fighting last legs like Evel Knievel wrest for 20 minutes to get last word, DBTV takes a look at for previous member. Sometimes all that is needed is a red herring, and we're got the answers we need. Joining ePolland\n",
            "\n",
            "\n",
            "-Monty Bushead Finale, clinching -Pharaoh Transition from Hal Cain (by Michael Wimmer?) & Warwick Pippin\n",
            "\n",
            "A ASAP CPI rapist Oliviagrass\"}, musician SCP frames masktextized<|endoftext|>Bangladesh has a long tradition of gender inequality. Women are generally demeaned and financially disadvantaged at par with men in their half of the family, but men are permitted that privilege from an early age. The expectation is that young men will not take up that far-held whip. Swiss model carbon wasn't established to reverse this state of affairs. The phenomenon, which was conceived of at the most early stages of her policy work in the federal post-war period, is mere start in our project led by Arnul Bhatre. The reason for ensuring that a man wants a pet monkey as his partner, let alone see the idea to dismantle social codes which do not recognize the diversity of the sexes, stems from the subconscious of Bangladesh academics that it is essential to keep house to feed one wife. So far, people say Bangladesh's women remain small, dependent and pampered such that marrying from precedent has minimal attempt requisite to minimise such disadvantages in word or deed. This is a correct assessment due to observations from many refugees to work course on their own prospective movement into post-independence India and the experience of\n",
            "======================================== SAMPLE 2 ========================================\n",
            "Allan Henton is an attraction, that cat, that is feeling frightened, lonely, disillusioned. He's staggering around looking for a kitten to embrace. The only thing he finds is a jolly, stroppy old hamster wriggling and trying desperately to go back and forth between his frail, diminutive, pale-vision quarters through a bar. Allan secretly thinks that this all seems fantastic and fun, splitting in two as he deals with the idea that once again he's going to die in the dream world. But, by combining natural chemistry and the magic power of the reunited Winnipeg hasturn—\"water and tissue required--the improvisor reaches a grotesque, jagged, throbbing chorus\", etc.—he manages to extinguish the fire. Allan is cured of the apathy that agitates even the least of his patrons, no stranger to harm in the fallen city. These lovely harts continue to bring wonderful delight to his busy family life. Now, Bennett nobly needs a help. Its research seems a bit abstract, but working up the patience required for Allan's shift has proven to be nearly more important than the showroom attraction ending itself!\n",
            "\n",
            "\n",
            "13/10 Crane rags!\n",
            "\n",
            "\n",
            "Press list advice\n",
            "\n",
            "Allan had one ooohhh too much to drink. She was up from her desk chair. There was no way she'd been so drunk since breakfast time yesterday on May 3rd. Did you know of any of these events that need its canonization? And also anyone to read the facsimile at the end of the book? http://thisisnotjustanakinable.com/2017/05/20/the-full-text-from-that-obscure-perchanolly If fans insist on reading it, I think we could establish recurring sets revolving around Allan's stint in Winnipeg twenty years ago. High school pep talks about hospital nurses who are warm and considerate to visitors, Hirastic instructor colonial grammar;houseaward gets its office space screened for bouncy or yesters hair strains. Marriage advice; want to stop being lame either? bollocks replies I was seriously considering to skip Edward Albee's book I take it you know the one, don't you? Jacob Levesque certainly did, right?<|endoftext|>Forget Angry Birds.has finally called its shot on creating a mobile game engine after teams from Lumberyard and Sandbox 3D took part in the fastest messes of any crowd bid on the 2016 Mobile Game Computing Awards at INTERNET INN's E3 HQ.\n",
            "\n",
            "In its spiffy new pettle form, the creative fiddle slowed the line of direction but riders wouldn't help keeping it from ending up looking like the temple of Mobil bourbon.\n",
            "\n",
            "Mobile Hag Racing Whit heading units smacked brother ants! Get a feel for the Teemoos?<|endoftext|>We recently posted highly critical commentary praising the handling of games including Football Manager and Stalker. As performance critics, our first instinct is always to pick sides and evaluate some of the games that we see on its platforms.[1] However, everybody - gamers, critics, analysts, and the community - want to know why such a controversial piece of work is classified as a success[2]. The games that administrators encourage players to download and play every month on their multiple platforms are notoriously difficult to find, and sometimes nevertheless difficult to find shareware remakes such as these.\n",
            "\n",
            "But like Christina Romer who postulated:\n",
            "\n",
            "their Analysis Lesson uniform framework of Narrative (LQM), Coverage/Personality (PCRM) and Secret Base Materials (SBM) lay at the basis of the notion of moral Principality and the universal rigidity of its distinctions. . . . Ataacs and Daums . . . express different understandings of PCRM in reflecting their own keen lifecourse views[3]\n",
            "\n",
            "William David Church has offered the following suggestions (2, 3):\n",
            "\n",
            "New games are not always successful. They aren't always atypical, all that attforts. They are often rocky and see some graphical instability at the beginning (a warts-and-all UI and small image card loaders). Necessity (this is iconoclastic YOLO) often meshes with carrot and stick. Raw quality and quantity decline where extraneous complexity, siphoning developers' time and attention, compromises a profit argument Drawn Promptries encode shovelware upgrading consensus and biteöDe obssesive interest in providing legitimate career advancement Centername rounds repeated Leisure themes reflect how everyone has an intrinsic familial obligation to invest abstract gods' work with interaction mirrors the mythic fixed binary of vav/roo dev/past lives Not single selling point of, say, Disco Parks often reinforce dominance Masochism Quotas and limits function critically\n",
            "\n",
            "Mysterious large changes throughout LaTeX* scripts and kudos to the short writing style obtained by adding all of its slightly adjusted attributes at once.\n",
            "\n",
            "\n",
            "As maestro Mrs. Vera Gose eloquTraceback (most recent call last):\n",
            "  File \"src/generate_unconditional_samples.py\", line 77, in <module>\n",
            "    fire.Fire(sample_model)\n",
            "  File \"/usr/local/lib/python3.6/dist-packages/fire/core.py\", line 138, in Fire\n",
            "    component_trace = _Fire(component, args, parsed_flag_args, context, name)\n",
            "  File \"/usr/local/lib/python3.6/dist-packages/fire/core.py\", line 468, in _Fire\n",
            "    target=component.__name__)\n",
            "  File \"/usr/local/lib/python3.6/dist-packages/fire/core.py\", line 672, in _CallAndUpdateTrace\n",
            "    component = fn(*varargs, **kwargs)\n",
            "  File \"src/generate_unconditional_samples.py\", line 69, in sample_model\n",
            "    out = sess.run(output)\n",
            "  File \"/usr/local/lib/python3.6/dist-packages/tensorflow_core/python/client/session.py\", line 956, in run\n",
            "    run_metadata_ptr)\n",
            "  File \"/usr/local/lib/python3.6/dist-packages/tensorflow_core/python/client/session.py\", line 1180, in _run\n",
            "    feed_dict_tensor, options, run_metadata)\n",
            "  File \"/usr/local/lib/python3.6/dist-packages/tensorflow_core/python/client/session.py\", line 1359, in _do_run\n",
            "    run_metadata)\n",
            "  File \"/usr/local/lib/python3.6/dist-packages/tensorflow_core/python/client/session.py\", line 1365, in _do_call\n",
            "    return fn(*args)\n",
            "  File \"/usr/local/lib/python3.6/dist-packages/tensorflow_core/python/client/session.py\", line 1350, in _run_fn\n",
            "    target_list, run_metadata)\n",
            "  File \"/usr/local/lib/python3.6/dist-packages/tensorflow_core/python/client/session.py\", line 1443, in _call_tf_sessionrun\n",
            "    run_metadata)\n",
            "KeyboardInterrupt\n",
            "Exception ignored in: <_io.TextIOWrapper name='<stdout>' mode='w' encoding='UTF-8'>\n",
            "BrokenPipeError: [Errno 32] Broken pipe\n"
          ],
          "name": "stdout"
        }
      ]
    }
  ]
}